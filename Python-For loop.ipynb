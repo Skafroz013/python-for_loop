{
 "cells": [
  {
   "cell_type": "code",
   "execution_count": null,
   "id": "1bce2bf3-84fd-4679-9279-fbf153734d6e",
   "metadata": {},
   "outputs": [],
   "source": [
    "#For Loop\n",
    "#Basic Level\n"
   ]
  },
  {
   "cell_type": "code",
   "execution_count": 2,
   "id": "8bec5736-e192-4ce2-a1bf-3d77c190da8e",
   "metadata": {},
   "outputs": [
    {
     "name": "stdout",
     "output_type": "stream",
     "text": [
      "1\n",
      "2\n",
      "3\n",
      "4\n",
      "5\n",
      "6\n",
      "7\n",
      "8\n",
      "9\n",
      "10\n"
     ]
    }
   ],
   "source": [
    "#1. Write a Python program to print the numbers from 1 to 10 using a `for` loop.\n",
    "for i in range(1,11):\n",
    "    print(i)"
   ]
  },
  {
   "cell_type": "code",
   "execution_count": 2,
   "id": "e0b1d99e-bc3b-4a92-bac2-a699536be505",
   "metadata": {},
   "outputs": [
    {
     "name": "stdout",
     "output_type": "stream",
     "text": [
      "sum of the list: 21\n"
     ]
    }
   ],
   "source": [
    "#2. Create a program that calculates the sum of all numbers in a list using a `for` loop.\n",
    "def sum_of_list(numbers):\n",
    "    sum = 0\n",
    "    for number in numbers:\n",
    "        sum += number\n",
    "    return sum\n",
    "my_list = [1,2,3,4,5,6]\n",
    "result = sum_of_list(my_list)\n",
    "print(\"sum of the list:\",result)"
   ]
  },
  {
   "cell_type": "code",
   "execution_count": 4,
   "id": "56148eec-a8bf-4c15-98fa-2096678d8fd7",
   "metadata": {},
   "outputs": [
    {
     "name": "stdout",
     "output_type": "stream",
     "text": [
      "Reversed string: !dlrow olleH\n"
     ]
    }
   ],
   "source": [
    "#3. Write a program to print the characters of a string in reverse order using a `for` loop.\n",
    "input_string = \"Hello world!\"\n",
    "reversed_string = \"\"\n",
    "for char in reversed(input_string):\n",
    "    reversed_string += char\n",
    "print(\"Reversed string:\",reversed_string)"
   ]
  },
  {
   "cell_type": "code",
   "execution_count": 13,
   "id": "c1054e73-5fd6-4e16-9060-d03a96fe63b7",
   "metadata": {},
   "outputs": [
    {
     "name": "stdin",
     "output_type": "stream",
     "text": [
      "Enter a number:  9\n"
     ]
    },
    {
     "name": "stdout",
     "output_type": "stream",
     "text": [
      "The factorial of 9 is 362880\n"
     ]
    }
   ],
   "source": [
    "#4 Develop a program that finds the factorial of a given number using a `for` loop.\n",
    "num = int(input(\"Enter a number: \"))\n",
    "factorial = 1\n",
    "if num < 0:\n",
    "    print(\"we can find facctorial to negative numbers\")\n",
    "elif num == 0:\n",
    "    print(\"The factorial of 0 is 1\")\n",
    "else:\n",
    "    for i in range(1,num+1):\n",
    "        factorial = factorial*i\n",
    "    print(\"The factorial of\",num,\"is\",factorial)"
   ]
  },
  {
   "cell_type": "code",
   "execution_count": 16,
   "id": "b5673b08-b6d0-495f-b8c4-8fa002ffe18d",
   "metadata": {},
   "outputs": [
    {
     "name": "stdin",
     "output_type": "stream",
     "text": [
      "Enter a number 2\n"
     ]
    },
    {
     "name": "stdout",
     "output_type": "stream",
     "text": [
      "Multiplication table for 2:\n",
      "2 x 1 = 2\n",
      "2 x 2 = 4\n",
      "2 x 3 = 6\n",
      "2 x 4 = 8\n",
      "2 x 5 = 10\n",
      "2 x 6 = 12\n",
      "2 x 7 = 14\n",
      "2 x 8 = 16\n",
      "2 x 9 = 18\n",
      "2 x 10 = 20\n"
     ]
    }
   ],
   "source": [
    "#5. Create a program to print the multiplication table of a given number using a `for` loop.\n",
    "number = int(input(\"Enter a number\"))\n",
    "print(f\"Multiplication table for {number}:\")\n",
    "for i in range(1,11):\n",
    "    result = number * i\n",
    "    print(f\"{number} x {i} = {result}\")"
   ]
  },
  {
   "cell_type": "code",
   "execution_count": 25,
   "id": "f1d5c2e3-ce7f-4943-ae1b-1a0fb09b3a07",
   "metadata": {},
   "outputs": [
    {
     "name": "stdout",
     "output_type": "stream",
     "text": [
      "Even numbers in the list: 5\n",
      "Odd numbers in the list: 5\n"
     ]
    }
   ],
   "source": [
    "#6. Write a program that counts the number of even and odd numbers in a list using a `for` loop.\n",
    "list1 = [1,2,3,4,5,6,7,8,9,10]\n",
    "even_count , odd_count = 0, 0\n",
    "for num in list1:\n",
    "    if num %2 == 0:\n",
    "        even_count +=1\n",
    "    else:\n",
    "        odd_count +=1\n",
    "print(\"Even numbers in the list:\",even_count)\n",
    "print(\"Odd numbers in the list:\",odd_count)"
   ]
  },
  {
   "cell_type": "code",
   "execution_count": 30,
   "id": "6a42eeeb-cbb7-4f9e-843b-a50b665a7408",
   "metadata": {},
   "outputs": [
    {
     "name": "stdout",
     "output_type": "stream",
     "text": [
      "The square of 1 is 1\n",
      "The square of 2 is 4\n",
      "The square of 3 is 9\n",
      "The square of 4 is 16\n",
      "The square of 5 is 25\n"
     ]
    }
   ],
   "source": [
    "#7. Develop a program that prints the squares of numbers from 1 to 5 using a `for` loop.\n",
    "for num in range(1, 6):\n",
    "    square = num ** 2\n",
    "    print(f\"The square of {num} is {square}\")\n"
   ]
  },
  {
   "cell_type": "code",
   "execution_count": 34,
   "id": "8ac9b418-f3ef-4470-8d8b-489406676747",
   "metadata": {},
   "outputs": [
    {
     "name": "stdout",
     "output_type": "stream",
     "text": [
      "The Length of the string: 16\n"
     ]
    }
   ],
   "source": [
    "#8. Create a program to find the length of a string without using the `len()` function\n",
    "def find_string_length(input_string):\n",
    "    length = 0\n",
    "    for _ in input_string:\n",
    "        length +=1\n",
    "    return length\n",
    "input_string = \"my name is afroz\"\n",
    "length = find_string_length(input_string)\n",
    "print(\"The Length of the string:\",length)"
   ]
  },
  {
   "cell_type": "code",
   "execution_count": 36,
   "id": "4d8e12fa-aa8e-41da-96b8-0281bccdc42d",
   "metadata": {},
   "outputs": [
    {
     "name": "stdout",
     "output_type": "stream",
     "text": [
      "4.666666666666667\n"
     ]
    }
   ],
   "source": [
    "#9. Write a program that calculates the average of a list of numbers using a `for` loop.\n",
    "list = [1,2,3,4,5,6]\n",
    "sum = 0\n",
    "for i in numbers:\n",
    "    sum = sum + i\n",
    "list_size = len(list)\n",
    "average = sum/list_size\n",
    "print(average)"
   ]
  },
  {
   "cell_type": "code",
   "execution_count": 37,
   "id": "3a49d894-f4b2-4008-ae72-458081f72629",
   "metadata": {},
   "outputs": [
    {
     "name": "stdin",
     "output_type": "stream",
     "text": [
      "Enter the value of 'n':  9\n"
     ]
    },
    {
     "name": "stdout",
     "output_type": "stream",
     "text": [
      "The first 9 Fibonacci numbers are:\n",
      "0 1 1 2 3 5 8 13 21 "
     ]
    }
   ],
   "source": [
    "#10. Develop a program that prints the first `n` Fibonacci numbers using a `for` loop.\n",
    "def generate_fibonacci(n):\n",
    "    fib_sequence = []\n",
    "    if n <= 0:\n",
    "        return fib_sequence\n",
    "    elif n == 1:\n",
    "        fib_sequence.append(0)\n",
    "    elif n >= 2:\n",
    "        fib_sequence.extend([0, 1])\n",
    "\n",
    "        for i in range(2, n):\n",
    "            next_fib = fib_sequence[-1] + fib_sequence[-2]\n",
    "            fib_sequence.append(next_fib)\n",
    "\n",
    "    return fib_sequence\n",
    "\n",
    "n = int(input(\"Enter the value of 'n': \"))\n",
    "\n",
    "if n <= 0:\n",
    "    print(\"Please enter a positive integer.\")\n",
    "else:\n",
    "    fibonacci_numbers = generate_fibonacci(n)\n",
    "    print(f\"The first {n} Fibonacci numbers are:\")\n",
    "    for number in fibonacci_numbers:\n",
    "        print(number, end=\" \")\n"
   ]
  },
  {
   "cell_type": "code",
   "execution_count": null,
   "id": "cfeb02a6-a2a2-4fb5-a786-3ed92808c768",
   "metadata": {},
   "outputs": [],
   "source": [
    "#For Loop\n",
    "#Intermediate Level\n"
   ]
  },
  {
   "cell_type": "code",
   "execution_count": 1,
   "id": "acdc9fd1-8eca-4747-957b-6c2c63406bcc",
   "metadata": {},
   "outputs": [
    {
     "name": "stdout",
     "output_type": "stream",
     "text": [
      "The list contains duplicates.\n"
     ]
    }
   ],
   "source": [
    "# 11 Program to check if a given list contains any duplicates using a for loop\n",
    "\n",
    "my_list = [1, 2, 3, 4, 5, 2]\n",
    "has_duplicates = False\n",
    "for i in range(len(my_list)):\n",
    "    for j in range(i + 1, len(my_list)):\n",
    "        if my_list[i] == my_list[j]:\n",
    "            has_duplicates = True\n",
    "            break\n",
    "if has_duplicates:\n",
    "    print(\"The list contains duplicates.\")\n",
    "else:\n",
    "    print(\"The list does not contain duplicates.\")"
   ]
  },
  {
   "cell_type": "code",
   "execution_count": 4,
   "id": "0be2df54-4be5-4ec3-9cb9-515cd341ace7",
   "metadata": {},
   "outputs": [
    {
     "name": "stdin",
     "output_type": "stream",
     "text": [
      "Enter the start of the range:  2\n",
      "Enter the end of the range:  8\n"
     ]
    },
    {
     "name": "stdout",
     "output_type": "stream",
     "text": [
      "2\n",
      "3\n",
      "5\n",
      "7\n"
     ]
    }
   ],
   "source": [
    "# 12 Program that prints prime numbers in a given range using a for loop\n",
    "\n",
    "start = int(input(\"Enter the start of the range: \"))\n",
    "end = int(input(\"Enter the end of the range: \"))\n",
    "for i in range(start, end + 1):\n",
    "    if i > 1:\n",
    "        is_prime = True\n",
    "        for j in range(2, int(i ** 0.5) + 1):\n",
    "            if i % j == 0:\n",
    "                is_prime = False\n",
    "                break\n",
    "        if is_prime:\n",
    "            print(i)"
   ]
  },
  {
   "cell_type": "code",
   "execution_count": 5,
   "id": "da922a83-471a-4f4b-9385-9689ec73c9df",
   "metadata": {},
   "outputs": [
    {
     "name": "stdin",
     "output_type": "stream",
     "text": [
      "Enter a string:  AfroZ\n"
     ]
    },
    {
     "name": "stdout",
     "output_type": "stream",
     "text": [
      "Number of vowels in the string: 2\n"
     ]
    }
   ],
   "source": [
    "# 13 to develop a program that counts the number of vowels in a string using a `for` loop\n",
    "\n",
    "input_string = input(\"Enter a string: \")\n",
    "vowel_count = 0\n",
    "vowels = \"AEIOUaeiou\"\n",
    "for i in input_string:\n",
    "    if i in vowels:\n",
    "        vowel_count += 1\n",
    "print(\"Number of vowels in the string:\", vowel_count)"
   ]
  },
  {
   "cell_type": "code",
   "execution_count": 6,
   "id": "5c679cd6-ff0c-458b-9b04-10447a0fe569",
   "metadata": {},
   "outputs": [
    {
     "name": "stdout",
     "output_type": "stream",
     "text": [
      "The maximum element in the 2D list is: 89\n"
     ]
    }
   ],
   "source": [
    "# 14 program to find the maximum element in a 2D list using a nested `for` loop\n",
    "\n",
    "matrix = [\n",
    "    [12, 45, 67],\n",
    "    [23, 56, 78],\n",
    "    [34, 65, 89]\n",
    "]\n",
    "max_element = matrix[0][0]\n",
    "for row in matrix:\n",
    "    for element in row:\n",
    "        if element > max_element:\n",
    "            max_element = element\n",
    "print(\"The maximum element in the 2D list is:\", max_element)"
   ]
  },
  {
   "cell_type": "code",
   "execution_count": 8,
   "id": "ab1076b2-9ac9-49cb-aee5-dcb987cba3a0",
   "metadata": {},
   "outputs": [
    {
     "name": "stdout",
     "output_type": "stream",
     "text": [
      "List after removing all occurrences of 2 : [1, 3, 4, 5]\n"
     ]
    }
   ],
   "source": [
    "# 15 program that removes all occurrences of a specific element from a list using a `for` loop\n",
    "\n",
    "my_list = [1, 2, 3, 4, 2, 5, 2]\n",
    "element_to_remove = 2\n",
    "filtered_list = []\n",
    "for i in my_list:\n",
    "    if i != element_to_remove:\n",
    "        filtered_list.append(i)\n",
    "my_list = filtered_list\n",
    "print(\"List after removing all occurrences of\", element_to_remove, \":\", my_list)"
   ]
  },
  {
   "cell_type": "code",
   "execution_count": 10,
   "id": "d9f86a4e-dd40-44b8-9bb0-9cb5dbd05bf4",
   "metadata": {},
   "outputs": [
    {
     "name": "stdout",
     "output_type": "stream",
     "text": [
      "Multiplication table for 1\n",
      "1  x  1 = 1\n",
      "1  x  2 = 2\n",
      "1  x  3 = 3\n",
      "1  x  4 = 4\n",
      "1  x  5 = 5\n",
      "1  x  6 = 6\n",
      "1  x  7 = 7\n",
      "1  x  8 = 8\n",
      "1  x  9 = 9\n",
      "1  x  10 = 10\n",
      "\n",
      "Multiplication table for 2\n",
      "2  x  1 = 2\n",
      "2  x  2 = 4\n",
      "2  x  3 = 6\n",
      "2  x  4 = 8\n",
      "2  x  5 = 10\n",
      "2  x  6 = 12\n",
      "2  x  7 = 14\n",
      "2  x  8 = 16\n",
      "2  x  9 = 18\n",
      "2  x  10 = 20\n",
      "\n",
      "Multiplication table for 3\n",
      "3  x  1 = 3\n",
      "3  x  2 = 6\n",
      "3  x  3 = 9\n",
      "3  x  4 = 12\n",
      "3  x  5 = 15\n",
      "3  x  6 = 18\n",
      "3  x  7 = 21\n",
      "3  x  8 = 24\n",
      "3  x  9 = 27\n",
      "3  x  10 = 30\n",
      "\n",
      "Multiplication table for 4\n",
      "4  x  1 = 4\n",
      "4  x  2 = 8\n",
      "4  x  3 = 12\n",
      "4  x  4 = 16\n",
      "4  x  5 = 20\n",
      "4  x  6 = 24\n",
      "4  x  7 = 28\n",
      "4  x  8 = 32\n",
      "4  x  9 = 36\n",
      "4  x  10 = 40\n",
      "\n",
      "Multiplication table for 5\n",
      "5  x  1 = 5\n",
      "5  x  2 = 10\n",
      "5  x  3 = 15\n",
      "5  x  4 = 20\n",
      "5  x  5 = 25\n",
      "5  x  6 = 30\n",
      "5  x  7 = 35\n",
      "5  x  8 = 40\n",
      "5  x  9 = 45\n",
      "5  x  10 = 50\n",
      "\n"
     ]
    }
   ],
   "source": [
    "# 16 to develop a program that generates a multiplication table for numbers from 1 to 5 using a nested `for` loop\n",
    "\n",
    "for i in range(1,6):\n",
    "    print(\"Multiplication table for\",i)\n",
    "    for j in range(1, 11): \n",
    "        product = i * j\n",
    "        print(i,\" x \",j, \"=\", product)\n",
    "    print()"
   ]
  },
  {
   "cell_type": "code",
   "execution_count": 13,
   "id": "cec4c878-c3ce-480c-b27c-1f7b6d686f31",
   "metadata": {},
   "outputs": [
    {
     "name": "stdout",
     "output_type": "stream",
     "text": [
      "32 °F is equal to  0.0 °C\n",
      "68 °F is equal to  20.0 °C\n",
      "100 °F is equal to  37.77777777777778 °C\n",
      "212 °F is equal to  100.0 °C\n"
     ]
    }
   ],
   "source": [
    "# 17 program that converts a list of Fahrenheit temperatures to Celsius using a `for` loop\n",
    "\n",
    "fahrenheit_temperatures = [32, 68, 100, 212]\n",
    "celsius_temperatures = []\n",
    "for fahrenheit in fahrenheit_temperatures:\n",
    "    celsius = (fahrenheit - 32) * 5/9\n",
    "    celsius_temperatures.append(celsius)\n",
    "for i in range(len(fahrenheit_temperatures)):\n",
    "    print(fahrenheit_temperatures[i] ,\"°F is equal to \",celsius_temperatures[i],\"°C\")"
   ]
  },
  {
   "cell_type": "code",
   "execution_count": 16,
   "id": "bdc1c0d4-ce1a-4f59-b721-f3c32d5b335a",
   "metadata": {},
   "outputs": [
    {
     "name": "stdout",
     "output_type": "stream",
     "text": [
      "Common elements: [3, 4, 5]\n"
     ]
    }
   ],
   "source": [
    "# 18 to create a program to print the common elements from two lists using a `for` loop\n",
    "\n",
    "list1 = [1, 2, 3, 4, 5]\n",
    "list2 = [3, 4, 5, 6, 7]\n",
    "common_elements = []\n",
    "for i in list1:\n",
    "    for j in list2:\n",
    "        if i == j:\n",
    "            common_elements.append(i)\n",
    "print(\"Common elements:\", common_elements)"
   ]
  },
  {
   "cell_type": "code",
   "execution_count": 18,
   "id": "7594c69e-85a0-470d-8575-e94f4a9f31d5",
   "metadata": {},
   "outputs": [
    {
     "name": "stdout",
     "output_type": "stream",
     "text": [
      "*\n",
      "**\n",
      "***\n",
      "****\n",
      "*****\n"
     ]
    }
   ],
   "source": [
    "# 19 to develop a program that prints the pattern of right-angled triangles using a `for` loop\n",
    "\n",
    "rows = 5\n",
    "for i in range(1, rows + 1):\n",
    "    for j in range(i):\n",
    "        print('*', end='')\n",
    "    print()"
   ]
  },
  {
   "cell_type": "code",
   "execution_count": 19,
   "id": "9edc0341-dd07-4407-9a40-ea95404a773b",
   "metadata": {},
   "outputs": [
    {
     "name": "stdin",
     "output_type": "stream",
     "text": [
      "Enter the first number:  34\n",
      "Enter the second number:  57\n"
     ]
    },
    {
     "name": "stdout",
     "output_type": "stream",
     "text": [
      "The greatest common divisor (GCD) of 34 and 57 is: 1\n"
     ]
    }
   ],
   "source": [
    "# 20 program to find the greatest common divisor (GCD) of two numbers using a `for` loop\n",
    "\n",
    "num1 = int(input(\"Enter the first number: \"))\n",
    "num2 = int(input(\"Enter the second number: \"))\n",
    "min_num = min(num1, num2)\n",
    "gcd = 1\n",
    "for i in range(1, min_num + 1):\n",
    "    if num1 % i == 0 and num2 % i == 0:\n",
    "        gcd = i\n",
    "print(\"The greatest common divisor (GCD) of\", num1, \"and\", num2, \"is:\", gcd)"
   ]
  },
  {
   "cell_type": "code",
   "execution_count": null,
   "id": "e0d4dee5-05fa-4870-b5fe-98417a063eb3",
   "metadata": {},
   "outputs": [],
   "source": [
    "#For Loop\n",
    "#Advanced Level\n"
   ]
  },
  {
   "cell_type": "code",
   "execution_count": 23,
   "id": "f332bbec-4d79-48f1-9b78-5ae308528782",
   "metadata": {},
   "outputs": [
    {
     "name": "stdout",
     "output_type": "stream",
     "text": [
      "[6, 9, 30, 30]\n"
     ]
    }
   ],
   "source": [
    "#21. Create a program that calculates the sum of the digits of numbers in a list using a list comprehension.\n",
    "def sum_of_digits(number):\n",
    "    return sum(int(digit) for digit in str(number) if digit.isdigit())\n",
    "numbers = [123, 45, 6789, 9876]\n",
    "sums = [sum_of_digits(number) for number in numbers]\n",
    "print(sums)\n"
   ]
  },
  {
   "cell_type": "code",
   "execution_count": 6,
   "id": "495d37ae-9a19-4a92-8f06-f57093aa181d",
   "metadata": {},
   "outputs": [
    {
     "name": "stdin",
     "output_type": "stream",
     "text": [
      "Enter a number:  78\n"
     ]
    },
    {
     "name": "stdout",
     "output_type": "stream",
     "text": [
      "The prime factors of 78 are: [2, 3, 13]\n"
     ]
    }
   ],
   "source": [
    "#22. Write a program to find the prime factors of a given number using a `for` loop and list comprehension.\n",
    "def is_prime(num):\n",
    "    if num < 2:\n",
    "        return False\n",
    "    for i in range(2, int(num ** 0.5) + 1):\n",
    "        if num % i == 0:\n",
    "            return False\n",
    "    return True\n",
    "\n",
    "def prime_factors(n):\n",
    "    factors = [x for x in range(2, n + 1) if n % x == 0 and is_prime(x)]\n",
    "    return factors\n",
    "\n",
    "num = int(input(\"Enter a number: \"))\n",
    "\n",
    "if num < 2:\n",
    "    print(\"Prime factors are not defined for numbers less than 2.\")\n",
    "else:\n",
    "    factors = prime_factors(num)\n",
    "    print(f\"The prime factors of {num} are: {factors}\")\n"
   ]
  },
  {
   "cell_type": "code",
   "execution_count": 14,
   "id": "57a05423-4bbb-4d43-a3bd-3623380a586e",
   "metadata": {},
   "outputs": [
    {
     "name": "stdin",
     "output_type": "stream",
     "text": [
      "Enter a list of elements separated by spaces:  1,2,1,3,2\n"
     ]
    },
    {
     "name": "stdout",
     "output_type": "stream",
     "text": [
      "Unique elements in the list: ['1,2,1,3,2']\n"
     ]
    }
   ],
   "source": [
    "#23. Develop a program that extracts unique elements from a list and stores them in a new list using a list comprehension\n",
    "def extract_unique_elements(input_list):\n",
    "    unique_elements = []\n",
    "    [unique_elements.append(x) for x in input_list if x not in unique_elements]\n",
    "    return unique_elements\n",
    "input_list = input(\"Enter a list of elements separated by spaces: \").split()\n",
    "unique_elements = extract_unique_elements(input_list)\n",
    "print(\"Unique elements in the list:\", unique_elements)\n"
   ]
  },
  {
   "cell_type": "code",
   "execution_count": 24,
   "id": "98461758-79be-4658-bc9f-0f1d254ea2f0",
   "metadata": {},
   "outputs": [
    {
     "name": "stdout",
     "output_type": "stream",
     "text": [
      "121\n",
      "141\n",
      "252\n",
      "Total palindrome nos. are 3\n"
     ]
    }
   ],
   "source": [
    "#24. Create a program that generates a list of all palindromic numbers up to a specified limit using a list comprehension\n",
    "def palindromeNumbers(list_a):\n",
    "    c = 0\n",
    "    for i in list_a:\n",
    "        if str(i) == str(i)[::-1]:\n",
    "            print(i)\n",
    "            c += 1\n",
    "    print(\"Total palindrome nos. are\", c)\n",
    " \n",
    " \n",
    "list_a = [10, 121, 133, 155, 141, 252]\n",
    "palindromeNumbers(list_a)"
   ]
  },
  {
   "cell_type": "code",
   "execution_count": 27,
   "id": "8eaaf5cc-d4f2-41fa-bfbe-d8c1292d3cd4",
   "metadata": {},
   "outputs": [
    {
     "name": "stdout",
     "output_type": "stream",
     "text": [
      "Flattened list: [1, 2, 3, 4, 5, 6, 7, 8]\n"
     ]
    }
   ],
   "source": [
    "#25. Write a program to flatten a nested list using list comprehension.\n",
    "def flatten_nested_list(nested_list):\n",
    "    flattened_list = [item for sublist in nested_list for item in sublist]\n",
    "    return flattened_list\n",
    "nested_list = [[1, 2, 3], [4, 5], [6, 7, 8]]\n",
    "flattened_list = flatten_nested_list(nested_list)\n",
    "print(\"Flattened list:\", flattened_list)\n"
   ]
  },
  {
   "cell_type": "code",
   "execution_count": 3,
   "id": "831a7078-12d3-4f2f-818e-16dc055a7cab",
   "metadata": {},
   "outputs": [
    {
     "name": "stdout",
     "output_type": "stream",
     "text": [
      "Sum of even numbers: 30\n",
      "Sum of odd numbers: 25\n"
     ]
    }
   ],
   "source": [
    "#26. Develop a program that computes the sum of even and odd numbers in a list separately using list comprehension\n",
    "def compute_sum_even_odd(numbers):\n",
    "    even_numbers = [num for num in numbers if num % 2 == 0]\n",
    "    odd_numbers = [num for num in numbers if num % 2 != 0]\n",
    "    sum_even = sum(even_numbers)\n",
    "    sum_odd = sum(odd_numbers)\n",
    "\n",
    "    return sum_even, sum_odd\n",
    "numbers = [1, 2, 3, 4, 5, 6, 7, 8, 9, 10]\n",
    "\n",
    "sum_even, sum_odd = compute_sum_even_odd(numbers)\n",
    "\n",
    "print(f\"Sum of even numbers: {sum_even}\")\n",
    "print(f\"Sum of odd numbers: {sum_odd}\")\n"
   ]
  },
  {
   "cell_type": "code",
   "execution_count": 7,
   "id": "cd3509c0-1861-4222-bbb9-ad6082c1e580",
   "metadata": {},
   "outputs": [
    {
     "name": "stdout",
     "output_type": "stream",
     "text": [
      "[1, 9, 25, 49, 81]\n"
     ]
    }
   ],
   "source": [
    "#27. Create a program that generates a list of squares of odd numbers between 1 and 10 using list comprehension\n",
    "squares_of_odd_numbers = [x**2 for x in range(1,11) if x% 2 !=0]\n",
    "print(squares_of_odd_numbers)"
   ]
  },
  {
   "cell_type": "code",
   "execution_count": 8,
   "id": "34d5667c-ec8a-464e-88d9-58a2094e432c",
   "metadata": {},
   "outputs": [
    {
     "name": "stdout",
     "output_type": "stream",
     "text": [
      "{'name': 'Alice', 'age': 25, 'city': 'New York'}\n"
     ]
    }
   ],
   "source": [
    "#28. Write a program that combines two lists into a dictionary using list comprehension.\n",
    "keys = [\"name\",\"age\",\"city\"]\n",
    "values = [\"Alice\",25,\"New York\"]\n",
    "my_dict = {keys[i]:values[i] for i in range(len(keys))}\n",
    "print(my_dict)"
   ]
  },
  {
   "cell_type": "code",
   "execution_count": 10,
   "id": "b6c1096d-ffa8-47b9-9828-61ad4e96abb3",
   "metadata": {},
   "outputs": [
    {
     "name": "stdout",
     "output_type": "stream",
     "text": [
      "['a', 'e', 'i', 'a', 'u']\n"
     ]
    }
   ],
   "source": [
    "#29. Develop a program that extracts the vowels from a string and stores them in a list using list comprehension.\n",
    "input_string = \"my name is affu\"\n",
    "vowels = [char for char in input_string if char.lower() in 'aeiou']\n",
    "print(vowels)"
   ]
  },
  {
   "cell_type": "code",
   "execution_count": 12,
   "id": "46b98f13-c1e5-4e5b-b6bd-19ea014d7495",
   "metadata": {},
   "outputs": [
    {
     "name": "stdout",
     "output_type": "stream",
     "text": [
      "['1123', '45', '6788', '910']\n"
     ]
    }
   ],
   "source": [
    "#30. Create a program that removes all non-numeric characters from a list of strings using list comprehension.\n",
    "list = [\"abc1123\",\"45def\",\"678gh8\",\"i9j10\"]\n",
    "numeric_strings = [''.join(char for char in s if char.isdigit()) for s in list]\n",
    "print(numeric_strings)"
   ]
  },
  {
   "cell_type": "code",
   "execution_count": null,
   "id": "0822df30-177b-4872-b41d-be5e510bc7ed",
   "metadata": {},
   "outputs": [],
   "source": [
    "#For Loop\n",
    "#Challenge Level\n"
   ]
  },
  {
   "cell_type": "code",
   "execution_count": 1,
   "id": "e48c1f51-677c-42a2-893e-ba1b7773005a",
   "metadata": {},
   "outputs": [
    {
     "name": "stdin",
     "output_type": "stream",
     "text": [
      "Enter an upper limit for prime numbers:  9\n"
     ]
    },
    {
     "name": "stdout",
     "output_type": "stream",
     "text": [
      "Prime numbers up to 9 are: [2, 3, 5, 7]\n"
     ]
    }
   ],
   "source": [
    "# 31 program to generate a list of prime numbers using the Sieve of Eratosthenes algorithm and list comprehension\n",
    "\n",
    "n = int(input(\"Enter an upper limit for prime numbers: \"))\n",
    "is_prime = [True] * (n + 1)\n",
    "is_prime[0] = is_prime[1] = False\n",
    "for i in range(2, int(n**0.5) + 1):\n",
    "    if is_prime[i]:\n",
    "        for j in range(i*i, n + 1, i):\n",
    "            is_prime[j] = False\n",
    "prime_numbers = [i for i in range(2, n + 1) if is_prime[i]]\n",
    "print(\"Prime numbers up to\", n, \"are:\", prime_numbers)"
   ]
  },
  {
   "cell_type": "code",
   "execution_count": 3,
   "id": "fc9910d7-5e38-4336-8408-8eaf73b239bf",
   "metadata": {},
   "outputs": [
    {
     "name": "stdin",
     "output_type": "stream",
     "text": [
      "Enter an upper limit for Pythagorean triplets:  15\n"
     ]
    },
    {
     "name": "stdout",
     "output_type": "stream",
     "text": [
      "Pythagorean triplets up to 15 are:\n",
      "(3, 4, 5)\n",
      "(5, 12, 13)\n",
      "(6, 8, 10)\n",
      "(9, 12, 15)\n"
     ]
    }
   ],
   "source": [
    "# 32 program that generates a list of all Pythagorean triplets up to a specified limit using list comprehension\n",
    "\n",
    "limit = int(input(\"Enter an upper limit for Pythagorean triplets: \"))\n",
    "triplets = [(a, b, c) for a in range(1, limit + 1)\n",
    "                      for b in range(a, limit + 1)\n",
    "                      for c in range(b, limit + 1)\n",
    "                      if a**2 + b**2 == c**2]\n",
    "unique_triplets = list(set(triplets))\n",
    "unique_triplets.sort()\n",
    "print(\"Pythagorean triplets up to\", limit, \"are:\")\n",
    "for triplet in unique_triplets:\n",
    "    print(triplet)"
   ]
  },
  {
   "cell_type": "code",
   "execution_count": 4,
   "id": "c63e0150-2d61-4a95-a956-b7870a6ac7d2",
   "metadata": {},
   "outputs": [
    {
     "name": "stdout",
     "output_type": "stream",
     "text": [
      "All possible combinations of list1 and list2 are:\n",
      "(1, 'a')\n",
      "(1, 'b')\n",
      "(1, 'c')\n",
      "(2, 'a')\n",
      "(2, 'b')\n",
      "(2, 'c')\n",
      "(3, 'a')\n",
      "(3, 'b')\n",
      "(3, 'c')\n"
     ]
    }
   ],
   "source": [
    "# 33 program that generates a list of all possible combinations of two lists using list comprehension\n",
    "\n",
    "list1 = [1, 2, 3]\n",
    "list2 = ['a', 'b', 'c']\n",
    "combinations = [(x, y) for x in list1 for y in list2]\n",
    "print(\"All possible combinations of list1 and list2 are:\")\n",
    "for combination in combinations:\n",
    "    print(combination)"
   ]
  },
  {
   "cell_type": "code",
   "execution_count": 5,
   "id": "08f9260a-903c-4ecc-8951-430ec258745d",
   "metadata": {},
   "outputs": [
    {
     "name": "stdout",
     "output_type": "stream",
     "text": [
      "List of numbers: [12, 34, 23, 12, 34, 45, 56, 23, 45, 12, 34]\n",
      "Mean: 30.0\n",
      "Median: 34\n",
      "Mode: 12\n"
     ]
    }
   ],
   "source": [
    "# 34 program that calculates the mean, median, and mode of a list of numbers using list comprehension\n",
    "\n",
    "import statistics\n",
    "numbers = [12, 34, 23, 12, 34, 45, 56, 23, 45, 12, 34]\n",
    "mean = sum(numbers) / len(numbers)\n",
    "sorted_numbers = sorted(numbers)\n",
    "n = len(sorted_numbers)\n",
    "median = (sorted_numbers[n // 2] + sorted_numbers[(n - 1) // 2]) / 2 if n % 2 == 0 else sorted_numbers[n // 2]\n",
    "mode = statistics.mode(numbers)\n",
    "print(\"List of numbers:\", numbers)\n",
    "print(\"Mean:\", mean)\n",
    "print(\"Median:\", median)\n",
    "print(\"Mode:\", mode)"
   ]
  },
  {
   "cell_type": "code",
   "execution_count": 10,
   "id": "62438091-18c2-4b4a-a228-40598fe3ec44",
   "metadata": {},
   "outputs": [
    {
     "name": "stdin",
     "output_type": "stream",
     "text": [
      "Enter the number of rows for Pascal's triangle:  5\n"
     ]
    },
    {
     "name": "stdout",
     "output_type": "stream",
     "text": [
      "Pascal's Triangle (up to 5 rows):\n",
      "       1       \n",
      "      1 1      \n",
      "     1 2 1     \n",
      "    1 3 3 1    \n",
      "   1 4 6 4 1   \n"
     ]
    }
   ],
   "source": [
    "# 35 program that generates Pascal's triangle up to a specified number of rows using list comprehension\n",
    "\n",
    "num_rows = int(input(\"Enter the number of rows for Pascal's triangle: \"))\n",
    "if num_rows <= 0:\n",
    "    print(\"Number of rows should be greater than zero.\")\n",
    "else:\n",
    "    pascals_triangle = [[1]]\n",
    "    for _ in range(num_rows - 1):\n",
    "        previous_row = pascals_triangle[-1]\n",
    "        new_row = [1] + [previous_row[i] + previous_row[i + 1] for i in range(len(previous_row) - 1)] + [1]\n",
    "        pascals_triangle.append(new_row)\n",
    "    print(\"Pascal's Triangle (up to {} rows):\".format(num_rows))\n",
    "    for row in pascals_triangle:\n",
    "        print(\" \".join(map(str, row)).center(num_rows * 3))"
   ]
  },
  {
   "cell_type": "code",
   "execution_count": 12,
   "id": "d3238785-5b0a-4b15-8a5c-77a9afdf843b",
   "metadata": {},
   "outputs": [
    {
     "name": "stdout",
     "output_type": "stream",
     "text": [
      "Factorial of  1 is  1 and the sum of its digits is  1\n",
      "Factorial of  2 is  2 and the sum of its digits is  2\n",
      "Factorial of  3 is  6 and the sum of its digits is  6\n",
      "Factorial of  4 is  24 and the sum of its digits is  6\n",
      "Factorial of  5 is  120 and the sum of its digits is  3\n"
     ]
    }
   ],
   "source": [
    "# 36 program that calculates the sum of the digits of a factorial of numbers from 1 to 5 using list comprehension\n",
    "\n",
    "def factorial(n):\n",
    "    if n == 0:\n",
    "        return 1\n",
    "    else:\n",
    "        return n * factorial(n - 1)\n",
    "results = [(n, factorial(n), sum(int(digit) for digit in str(factorial(n)))) for n in range(1, 6)]\n",
    "for n, fact, digit_sum in results:\n",
    "    print(\"Factorial of \",n,\"is \",fact,\"and the sum of its digits is \",digit_sum)"
   ]
  },
  {
   "cell_type": "code",
   "execution_count": 13,
   "id": "da32cc19-8ba9-4578-89d4-b6071f7651cf",
   "metadata": {},
   "outputs": [
    {
     "name": "stdin",
     "output_type": "stream",
     "text": [
      "Enter a sentence:  Hi How are you\n"
     ]
    },
    {
     "name": "stdout",
     "output_type": "stream",
     "text": [
      "The longest word in the sentence is: How\n"
     ]
    }
   ],
   "source": [
    "# 37 program that finds the longest word in a sentence using list comprehension\n",
    "\n",
    "sentence = input(\"Enter a sentence: \")\n",
    "words = sentence.split()\n",
    "longest_word = max(words, key=lambda word: len(word))\n",
    "print(\"The longest word in the sentence is:\", longest_word)"
   ]
  },
  {
   "cell_type": "code",
   "execution_count": 17,
   "id": "ee64af82-bcd0-4e22-b2b4-7ad1a95b3ba4",
   "metadata": {},
   "outputs": [
    {
     "name": "stdout",
     "output_type": "stream",
     "text": [
      "Strings with more than three vowels:\n",
      "Likkiii\n",
      "hellooo\n"
     ]
    }
   ],
   "source": [
    "# 38 program that filters a list of strings to include only those with more than three vowels using list comprehension\n",
    "\n",
    "def count_vowels(s):\n",
    "    vowels = \"AEIOUaeiou\"\n",
    "    return sum(1 for char in s if char in vowels)\n",
    "strings = [\"Python\", \"cherry\", \"Likkiii\", \"Afrozzz\", \"strawberry\",\"hellooo\"]\n",
    "filtered_strings = [s for s in strings if count_vowels(s) > 3]\n",
    "print(\"Strings with more than three vowels:\")\n",
    "for s in filtered_strings:\n",
    "    print(s)"
   ]
  },
  {
   "cell_type": "code",
   "execution_count": null,
   "id": "3019e9d0-da35-4dbd-9adf-62928c853eab",
   "metadata": {},
   "outputs": [],
   "source": [
    "# 39 program that calculates the sum of the digits of numbers from 1 to 1000 using list comprehension\n",
    "\n",
    "digit_sums = [sum(int(digit) for digit in str(n)) for n in range(1, 1001)]\n",
    "total_digit_sum = sum(digit_sums)\n",
    "print(\"The sum of the digits of numbers from 1 to 1000 is:\", total_digit_sum)"
   ]
  },
  {
   "cell_type": "code",
   "execution_count": 19,
   "id": "fe099008-779b-4442-a3c9-b664f23fb029",
   "metadata": {},
   "outputs": [
    {
     "name": "stdout",
     "output_type": "stream",
     "text": [
      "Prime palindromic numbers up to 1000 are: [2, 3, 5, 7, 11, 101, 131, 151, 181, 191, 313, 353, 373, 383, 727, 757, 787, 797, 919, 929]\n"
     ]
    }
   ],
   "source": [
    "# 40 program that generates a list of prime palindromic numbers using list comprehension\n",
    "\n",
    "def is_prime(n):\n",
    "    if n <= 1:\n",
    "        return False\n",
    "    if n <= 3:\n",
    "        return True\n",
    "    if n % 2 == 0 or n % 3 == 0:\n",
    "        return False\n",
    "    i = 5\n",
    "    while i * i <= n:\n",
    "        if n % i == 0 or n % (i + 2) == 0:\n",
    "            return False\n",
    "        i += 6\n",
    "    return True\n",
    "prime_palindromes = [n for n in range(1, 1000) if is_prime(n) and str(n) == str(n)[::-1]]\n",
    "print(\"Prime palindromic numbers up to 1000 are:\", prime_palindromes)"
   ]
  }
 ],
 "metadata": {
  "kernelspec": {
   "display_name": "Python 3 (ipykernel)",
   "language": "python",
   "name": "python3"
  },
  "language_info": {
   "codemirror_mode": {
    "name": "ipython",
    "version": 3
   },
   "file_extension": ".py",
   "mimetype": "text/x-python",
   "name": "python",
   "nbconvert_exporter": "python",
   "pygments_lexer": "ipython3",
   "version": "3.10.8"
  }
 },
 "nbformat": 4,
 "nbformat_minor": 5
}
